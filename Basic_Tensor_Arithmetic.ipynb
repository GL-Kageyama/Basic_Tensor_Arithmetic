{
 "cells": [
  {
   "cell_type": "code",
   "execution_count": 1,
   "metadata": {},
   "outputs": [],
   "source": [
    "# ==========================================\n",
    "# Basic tensor arithmetic by TensorFlow\n",
    "# =========================================="
   ]
  },
  {
   "cell_type": "code",
   "execution_count": 2,
   "metadata": {},
   "outputs": [],
   "source": [
    "import tensorflow as tf\n",
    "import numpy as np"
   ]
  },
  {
   "cell_type": "code",
   "execution_count": 3,
   "metadata": {},
   "outputs": [
    {
     "name": "stdout",
     "output_type": "stream",
     "text": [
      "TensorFlow Version 2.4.1\n"
     ]
    }
   ],
   "source": [
    "print(\"TensorFlow Version \" + tf.__version__)"
   ]
  },
  {
   "cell_type": "code",
   "execution_count": 4,
   "metadata": {},
   "outputs": [
    {
     "name": "stdout",
     "output_type": "stream",
     "text": [
      "tf.Tensor(\n",
      "[[1 2 3]\n",
      " [4 5 6]\n",
      " [7 8 9]], shape=(3, 3), dtype=int32)\n",
      "tf.Tensor(\n",
      "[[9 8 7]\n",
      " [6 5 4]\n",
      " [3 2 1]], shape=(3, 3), dtype=int32)\n"
     ]
    }
   ],
   "source": [
    "# Creating a tensor from a list\n",
    "a = [[1, 2, 3], [4, 5, 6], [7, 8, 9]]\n",
    "tensor_a = tf.convert_to_tensor(a)\n",
    "print(tensor_a)\n",
    "\n",
    "b = [[9, 8, 7], [6, 5, 4], [3, 2, 1]]\n",
    "tensor_b = tf.convert_to_tensor(b)\n",
    "print(tensor_b)"
   ]
  },
  {
   "cell_type": "code",
   "execution_count": 5,
   "metadata": {},
   "outputs": [
    {
     "name": "stdout",
     "output_type": "stream",
     "text": [
      "tf.Tensor(\n",
      "[[1. 2. 3.]\n",
      " [4. 5. 6.]\n",
      " [7. 8. 9.]], shape=(3, 3), dtype=float32)\n",
      "tf.Tensor(\n",
      "[[9. 8. 7.]\n",
      " [6. 5. 4.]\n",
      " [3. 2. 1.]], shape=(3, 3), dtype=float32)\n"
     ]
    }
   ],
   "source": [
    "# Creating a tensor from a NumPy array\n",
    "np_a = np.array([[1, 2, 3], [4, 5, 6], [7, 8, 9]], dtype=np.float32) \n",
    "np_tensor_a = tf.convert_to_tensor(np_a)\n",
    "print(np_tensor_a)\n",
    "\n",
    "np_b = np.array([[9, 8, 7], [6, 5, 4], [3, 2, 1]], dtype=np.float32) \n",
    "np_tensor_b = tf.convert_to_tensor(np_b)\n",
    "print(np_tensor_b)"
   ]
  },
  {
   "cell_type": "code",
   "execution_count": 6,
   "metadata": {},
   "outputs": [
    {
     "name": "stdout",
     "output_type": "stream",
     "text": [
      "tf.Tensor(\n",
      "[[1. 2. 3.]\n",
      " [4. 5. 6.]\n",
      " [7. 8. 9.]], shape=(3, 3), dtype=float32)\n",
      "tf.Tensor(\n",
      "[[9. 8. 7.]\n",
      " [6. 5. 4.]\n",
      " [3. 2. 1.]], shape=(3, 3), dtype=float32)\n"
     ]
    }
   ],
   "source": [
    "# Creating a constant tensor\n",
    "const_tensor_a = tf.constant([[1, 2, 3], [4, 5, 6], [7, 8, 9]], dtype=tf.float32)\n",
    "print(const_tensor_a)\n",
    "\n",
    "const_tensor_b = tf.constant([[9, 8, 7], [6, 5, 4], [3, 2, 1]], dtype=tf.float32)\n",
    "print(const_tensor_b)"
   ]
  },
  {
   "cell_type": "code",
   "execution_count": 7,
   "metadata": {},
   "outputs": [
    {
     "name": "stdout",
     "output_type": "stream",
     "text": [
      "tf.Tensor(\n",
      "[[10. 10. 10.]\n",
      " [10. 10. 10.]\n",
      " [10. 10. 10.]], shape=(3, 3), dtype=float32)\n"
     ]
    }
   ],
   "source": [
    "# Addition by element\n",
    "add_tensor = tf.add(const_tensor_a, const_tensor_b)\n",
    "print(add_tensor)"
   ]
  },
  {
   "cell_type": "code",
   "execution_count": 8,
   "metadata": {},
   "outputs": [
    {
     "name": "stdout",
     "output_type": "stream",
     "text": [
      "tf.Tensor(\n",
      "[[-8. -6. -4.]\n",
      " [-2.  0.  2.]\n",
      " [ 4.  6.  8.]], shape=(3, 3), dtype=float32)\n"
     ]
    }
   ],
   "source": [
    "# Subtraction by element\n",
    "subtract_tensor = tf.subtract(const_tensor_a, const_tensor_b)\n",
    "print(subtract_tensor)"
   ]
  },
  {
   "cell_type": "code",
   "execution_count": 9,
   "metadata": {},
   "outputs": [
    {
     "name": "stdout",
     "output_type": "stream",
     "text": [
      "tf.Tensor(\n",
      "[[ 9. 16. 21.]\n",
      " [24. 25. 24.]\n",
      " [21. 16.  9.]], shape=(3, 3), dtype=float32)\n"
     ]
    }
   ],
   "source": [
    "# Multiplication by element\n",
    "multiply_tensor = tf.multiply(const_tensor_a, const_tensor_b)\n",
    "print(multiply_tensor)"
   ]
  },
  {
   "cell_type": "code",
   "execution_count": 10,
   "metadata": {},
   "outputs": [
    {
     "name": "stdout",
     "output_type": "stream",
     "text": [
      "tf.Tensor(\n",
      "[[ 30.  24.  18.]\n",
      " [ 84.  69.  54.]\n",
      " [138. 114.  90.]], shape=(3, 3), dtype=float32)\n",
      "tf.Tensor(\n",
      "[[54. 42. 30.]\n",
      " [72. 57. 42.]\n",
      " [90. 72. 54.]], shape=(3, 3), dtype=float32)\n",
      "tf.Tensor(\n",
      "[[ 46.  28.  10.]\n",
      " [118.  73.  28.]\n",
      " [190. 118.  46.]], shape=(3, 3), dtype=float32)\n"
     ]
    }
   ],
   "source": [
    "# Matrix multiplication\n",
    "matmul_tensor = tf.linalg.matmul(const_tensor_a, const_tensor_b)\n",
    "print(matmul_tensor)\n",
    "\n",
    "# Matrix multiplication with Transpose a\n",
    "matmul_tensor_a = tf.linalg.matmul(const_tensor_a, const_tensor_b, transpose_a=True)\n",
    "print(matmul_tensor_a)\n",
    "\n",
    "# Matrix multiplication with Transpose b\n",
    "matmul_tensor_b = tf.linalg.matmul(const_tensor_a, const_tensor_b, transpose_b=True)\n",
    "print(matmul_tensor_b)"
   ]
  },
  {
   "cell_type": "code",
   "execution_count": 11,
   "metadata": {},
   "outputs": [
    {
     "name": "stdout",
     "output_type": "stream",
     "text": [
      "tf.Tensor(\n",
      "[[ 1.  4.  9.]\n",
      " [16. 25. 36.]\n",
      " [49. 64. 81.]], shape=(3, 3), dtype=float32)\n",
      "tf.Tensor(\n",
      "[[81. 64. 49.]\n",
      " [36. 25. 16.]\n",
      " [ 9.  4.  1.]], shape=(3, 3), dtype=float32)\n"
     ]
    }
   ],
   "source": [
    "# Exponentiation\n",
    "pow_tensor_a = tf.pow(const_tensor_a, 2)\n",
    "print(pow_tensor_a)\n",
    "\n",
    "pow_tensor_b = tf.pow(const_tensor_b, 2)\n",
    "print(pow_tensor_b)"
   ]
  },
  {
   "cell_type": "code",
   "execution_count": 12,
   "metadata": {},
   "outputs": [
    {
     "name": "stdout",
     "output_type": "stream",
     "text": [
      "tf.Tensor(\n",
      "[[2.7182817e+00 7.3890562e+00 2.0085537e+01]\n",
      " [5.4598152e+01 1.4841316e+02 4.0342880e+02]\n",
      " [1.0966332e+03 2.9809580e+03 8.1030840e+03]], shape=(3, 3), dtype=float32)\n",
      "tf.Tensor(\n",
      "[[8.1030840e+03 2.9809580e+03 1.0966332e+03]\n",
      " [4.0342880e+02 1.4841316e+02 5.4598152e+01]\n",
      " [2.0085537e+01 7.3890562e+00 2.7182817e+00]], shape=(3, 3), dtype=float32)\n"
     ]
    }
   ],
   "source": [
    "# Exponential function with \"e\" as the base\n",
    "exp_tensor_a = tf.exp(const_tensor_a)\n",
    "print(exp_tensor_a)\n",
    "\n",
    "exp_tensor_b = tf.exp(const_tensor_b)\n",
    "print(exp_tensor_b)"
   ]
  },
  {
   "cell_type": "code",
   "execution_count": 13,
   "metadata": {},
   "outputs": [
    {
     "name": "stdout",
     "output_type": "stream",
     "text": [
      "tf.Tensor(\n",
      "[[0.99999994 1.4142134  1.7320508 ]\n",
      " [1.9999999  2.236068   2.4494896 ]\n",
      " [2.6457512  2.8284268  3.        ]], shape=(3, 3), dtype=float32)\n",
      "tf.Tensor(\n",
      "[[2.9999998 2.8284268 2.6457512]\n",
      " [2.4494896 2.236068  1.9999999]\n",
      " [1.7320508 1.4142134 1.       ]], shape=(3, 3), dtype=float32)\n"
     ]
    }
   ],
   "source": [
    "# Square root\n",
    "sqrt_tensor_a = tf.sqrt(const_tensor_a)\n",
    "print(sqrt_tensor_a)\n",
    "\n",
    "sqrt_tensor_b = tf.sqrt(const_tensor_b)\n",
    "print(sqrt_tensor_b)"
   ]
  },
  {
   "cell_type": "code",
   "execution_count": 14,
   "metadata": {},
   "outputs": [
    {
     "name": "stdout",
     "output_type": "stream",
     "text": [
      "tf.Tensor(\n",
      "[[0.11111111 0.25       0.42857143]\n",
      " [0.6666667  1.         1.5       ]\n",
      " [2.3333333  4.         9.        ]], shape=(3, 3), dtype=float32)\n",
      "tf.Tensor(\n",
      "[[0. 0. 0.]\n",
      " [0. 1. 1.]\n",
      " [2. 4. 9.]], shape=(3, 3), dtype=float32)\n"
     ]
    }
   ],
   "source": [
    "# Division by element\n",
    "div_tensor = tf.divide(const_tensor_a, const_tensor_b)\n",
    "print(div_tensor)\n",
    "\n",
    "# Divide by element and round\n",
    "floordiv_tensor = tf.math.floordiv(const_tensor_a, const_tensor_b)\n",
    "print(floordiv_tensor)"
   ]
  },
  {
   "cell_type": "code",
   "execution_count": 15,
   "metadata": {},
   "outputs": [
    {
     "name": "stdout",
     "output_type": "stream",
     "text": [
      "tf.Tensor(\n",
      "[[1. 2. 3.]\n",
      " [4. 0. 2.]\n",
      " [1. 0. 0.]], shape=(3, 3), dtype=float32)\n"
     ]
    }
   ],
   "source": [
    "# Division remainder\n",
    "mod_tensor = tf.math.mod(const_tensor_a, const_tensor_b)\n",
    "print(mod_tensor)"
   ]
  }
 ],
 "metadata": {
  "kernelspec": {
   "display_name": "Python 3",
   "language": "python",
   "name": "python3"
  },
  "language_info": {
   "codemirror_mode": {
    "name": "ipython",
    "version": 3
   },
   "file_extension": ".py",
   "mimetype": "text/x-python",
   "name": "python",
   "nbconvert_exporter": "python",
   "pygments_lexer": "ipython3",
   "version": "3.6.9"
  }
 },
 "nbformat": 4,
 "nbformat_minor": 2
}
